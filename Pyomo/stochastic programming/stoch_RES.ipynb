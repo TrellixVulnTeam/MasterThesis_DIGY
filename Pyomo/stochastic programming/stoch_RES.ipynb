{
 "cells": [
  {
   "cell_type": "code",
   "execution_count": 9,
   "metadata": {
    "collapsed": true
   },
   "outputs": [
    {
     "name": "stdout",
     "output_type": "stream",
     "text": [
      "91.77573186524263\n",
      "91.77573186524263\n"
     ]
    }
   ],
   "source": [
    "from scipy.stats import norm\n",
    "\n",
    "eta_conf = 95/100       # -\n",
    "P_1_12_fore = 100       # kW\n",
    "sigma_1_12_fore = 5     # kw\n",
    "\n",
    "P_1_12 = P_1_12_fore + sigma_1_12_fore*norm.ppf(1 - eta_conf)\n",
    "print(P_1_12)\n",
    "print(norm.ppf(1 - eta_conf, loc=P_1_12_fore, scale=sigma_1_12_fore))"
   ]
  },
  {
   "cell_type": "markdown",
   "source": [
    "The chance-constrained optimization approach basically limits the RES output to a value smaller than maximum expected output. Since they are trying to maximize profits, the optimization problem will always push this constraint to the upper limit."
   ],
   "metadata": {
    "collapsed": false
   }
  }
 ],
 "metadata": {
  "kernelspec": {
   "display_name": "Python 3",
   "language": "python",
   "name": "python3"
  },
  "language_info": {
   "codemirror_mode": {
    "name": "ipython",
    "version": 2
   },
   "file_extension": ".py",
   "mimetype": "text/x-python",
   "name": "python",
   "nbconvert_exporter": "python",
   "pygments_lexer": "ipython2",
   "version": "2.7.6"
  }
 },
 "nbformat": 4,
 "nbformat_minor": 0
}